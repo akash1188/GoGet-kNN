{
 "cells": [
  {
   "cell_type": "markdown",
   "id": "9418f83f-8b0c-4b23-92b4-409c49605fc2",
   "metadata": {},
   "source": [
    "## GoGet Recommendation System"
   ]
  },
  {
   "cell_type": "code",
   "execution_count": 206,
   "id": "01e7c9ef-5e36-4ea1-9f8d-0c4aa0f11a87",
   "metadata": {},
   "outputs": [],
   "source": [
    "import pandas as pd\n",
    "import numpy as np\n",
    "import matplotlib.pyplot as plt\n",
    "from sklearn.model_selection import train_test_split\n",
    "from sklearn.preprocessing import StandardScaler\n",
    "from sklearn.neighbors import KNeighborsClassifier\n",
    "from sklearn.metrics import classification_report, confusion_matrix\n",
    "from sklearn.metrics import roc_curve, roc_auc_score\n",
    "import seaborn as sns"
   ]
  },
  {
   "cell_type": "markdown",
   "id": "c02b0772-536b-40b1-8bf8-8055d5d51067",
   "metadata": {},
   "source": [
    "Reading the Data"
   ]
  },
  {
   "cell_type": "code",
   "execution_count": 207,
   "id": "b46fad19-8691-4e29-9d25-9fdb5ce03346",
   "metadata": {},
   "outputs": [],
   "source": [
    "data = pd.read_csv('/home/dhanush/Downloads/Test_dataset_3.csv')"
   ]
  },
  {
   "cell_type": "markdown",
   "id": "66838e4f-6c6c-4891-a591-fb439b45f3a3",
   "metadata": {},
   "source": [
    "Printing the first 5 entries"
   ]
  },
  {
   "cell_type": "code",
   "execution_count": 208,
   "id": "14c2221e-c87d-4885-b1f7-295b2f8fa47b",
   "metadata": {},
   "outputs": [
    {
     "data": {
      "text/html": [
       "<div>\n",
       "<style scoped>\n",
       "    .dataframe tbody tr th:only-of-type {\n",
       "        vertical-align: middle;\n",
       "    }\n",
       "\n",
       "    .dataframe tbody tr th {\n",
       "        vertical-align: top;\n",
       "    }\n",
       "\n",
       "    .dataframe thead th {\n",
       "        text-align: right;\n",
       "    }\n",
       "</style>\n",
       "<table border=\"1\" class=\"dataframe\">\n",
       "  <thead>\n",
       "    <tr style=\"text-align: right;\">\n",
       "      <th></th>\n",
       "      <th>Shop Name</th>\n",
       "      <th>Avalability</th>\n",
       "      <th>Distance</th>\n",
       "      <th>Rating</th>\n",
       "      <th>Total bill</th>\n",
       "    </tr>\n",
       "  </thead>\n",
       "  <tbody>\n",
       "    <tr>\n",
       "      <th>0</th>\n",
       "      <td>M M Pai General Stores</td>\n",
       "      <td>1</td>\n",
       "      <td>2.3</td>\n",
       "      <td>2.2</td>\n",
       "      <td>195</td>\n",
       "    </tr>\n",
       "    <tr>\n",
       "      <th>1</th>\n",
       "      <td>D.M General Stores</td>\n",
       "      <td>1</td>\n",
       "      <td>3.9</td>\n",
       "      <td>3.3</td>\n",
       "      <td>190</td>\n",
       "    </tr>\n",
       "    <tr>\n",
       "      <th>2</th>\n",
       "      <td>Kalpavruksha Provision Store</td>\n",
       "      <td>0</td>\n",
       "      <td>3.9</td>\n",
       "      <td>2.7</td>\n",
       "      <td>160</td>\n",
       "    </tr>\n",
       "    <tr>\n",
       "      <th>3</th>\n",
       "      <td>Sri laxmi stores</td>\n",
       "      <td>1</td>\n",
       "      <td>0.6</td>\n",
       "      <td>4.7</td>\n",
       "      <td>190</td>\n",
       "    </tr>\n",
       "    <tr>\n",
       "      <th>4</th>\n",
       "      <td>Maqbool Store</td>\n",
       "      <td>1</td>\n",
       "      <td>1.1</td>\n",
       "      <td>2.0</td>\n",
       "      <td>198</td>\n",
       "    </tr>\n",
       "  </tbody>\n",
       "</table>\n",
       "</div>"
      ],
      "text/plain": [
       "                      Shop Name  Avalability  Distance  Rating  Total bill\n",
       "0        M M Pai General Stores            1       2.3     2.2         195\n",
       "1            D.M General Stores            1       3.9     3.3         190\n",
       "2  Kalpavruksha Provision Store            0       3.9     2.7         160\n",
       "3              Sri laxmi stores            1       0.6     4.7         190\n",
       "4                 Maqbool Store            1       1.1     2.0         198"
      ]
     },
     "execution_count": 208,
     "metadata": {},
     "output_type": "execute_result"
    }
   ],
   "source": [
    "data.head()"
   ]
  },
  {
   "cell_type": "markdown",
   "id": "9b7c7a18-7474-496a-8907-88dfbbdc06c2",
   "metadata": {},
   "source": [
    "Printing the information of the Dataset"
   ]
  },
  {
   "cell_type": "code",
   "execution_count": 209,
   "id": "3f907b2d-a025-4951-8307-af6b82f84ea9",
   "metadata": {},
   "outputs": [
    {
     "name": "stdout",
     "output_type": "stream",
     "text": [
      "<class 'pandas.core.frame.DataFrame'>\n",
      "RangeIndex: 100 entries, 0 to 99\n",
      "Data columns (total 5 columns):\n",
      " #   Column       Non-Null Count  Dtype  \n",
      "---  ------       --------------  -----  \n",
      " 0   Shop Name    100 non-null    object \n",
      " 1   Avalability  100 non-null    int64  \n",
      " 2   Distance     100 non-null    float64\n",
      " 3   Rating       100 non-null    float64\n",
      " 4   Total bill   100 non-null    int64  \n",
      "dtypes: float64(2), int64(2), object(1)\n",
      "memory usage: 4.0+ KB\n"
     ]
    }
   ],
   "source": [
    "data.info()"
   ]
  },
  {
   "cell_type": "markdown",
   "id": "60b61ad1-ccd4-4435-96f1-d3d116c59e79",
   "metadata": {},
   "source": [
    "To understand the range of each rating, a bargraph is plotted."
   ]
  },
  {
   "cell_type": "code",
   "execution_count": 210,
   "id": "caa6988a-a509-41bd-90d3-0ddb6783b22b",
   "metadata": {},
   "outputs": [
    {
     "data": {
      "image/png": "[encoded data removed]",
      "text/plain": [
       "<Figure size 1440x360 with 1 Axes>"
      ]
     },
     "metadata": {
      "needs_background": "light"
     },
     "output_type": "display_data"
    }
   ],
   "source": [
    "rating_counts = data.Rating.value_counts()\n",
    "plt.figure(figsize=(20,5))\n",
    "sns.barplot(x=rating_counts.index, y=rating_counts.values, palette=\"Oranges\")\n",
    "plt.xlabel(\"Rating value\")\n",
    "plt.ylabel(\"Counts\")\n",
    "plt.title(\"Most Common Rating Counts\");"
   ]
  },
  {
   "cell_type": "markdown",
   "id": "f876d986-8794-46c6-89d3-9bb613e68b04",
   "metadata": {},
   "source": [
    "To understand the Availability, another bargraph is plotted."
   ]
  },
  {
   "cell_type": "code",
   "execution_count": 211,
   "id": "4dd2cc86-183b-43ca-8f7e-95cf44346748",
   "metadata": {},
   "outputs": [
    {
     "data": {
      "image/png": "[encoded data removed]",
      "text/plain": [
       "<Figure size 1440x360 with 1 Axes>"
      ]
     },
     "metadata": {
      "needs_background": "light"
     },
     "output_type": "display_data"
    }
   ],
   "source": [
    "Availability_counts = data.Avalability.value_counts()\n",
    "plt.figure(figsize=(20,5))\n",
    "sns.barplot(x=Availability_counts.index, y=Availability_counts.values, palette=\"Greens\")\n",
    "plt.xlabel(\"Avalability\")\n",
    "plt.ylabel(\"Counts\")\n",
    "plt.title(\"Availability Counts\");"
   ]
  },
  {
   "cell_type": "code",
   "execution_count": 212,
   "id": "1510f243-98f3-4073-a1be-2726848f709c",
   "metadata": {},
   "outputs": [],
   "source": [
    "#Converting the dataframe into a list.\n",
    "df = data.values.tolist()"
   ]
  },
  {
   "cell_type": "code",
   "execution_count": 213,
   "id": "9111b088-b12b-4e45-b775-34e2eebdd3fb",
   "metadata": {},
   "outputs": [
    {
     "name": "stdout",
     "output_type": "stream",
     "text": [
      "Median is 195\n"
     ]
    }
   ],
   "source": [
    "#Finding the median of the Total Bill across the shops.\n",
    "total_bill = []\n",
    "for i in range(len(df)):\n",
    "    if(df[i][1]==1):\n",
    "        total_bill.append(df[i][4])\n",
    "median = sorted(total_bill)[len(total_bill)//2]\n",
    "print(\"Median is \"+str(median))        "
   ]
  },
  {
   "cell_type": "code",
   "execution_count": 214,
   "id": "e0fd2dfa-aabd-4af4-bb3e-ebe126d1e398",
   "metadata": {},
   "outputs": [],
   "source": [
    "#Calculating Final score using the GoGet formula.\n",
    "for i in range(len(df)):\n",
    "  fs = 0\n",
    "  d=0\n",
    "  if(df[i][1]==1):\n",
    "      if(df[i][4]<=median):\n",
    "        d = 5//(df[i][2])\n",
    "        fs = df[i][3] *20+ (median - df[i][4]) + d\n",
    "        df[i].append(fs)  \n",
    "      else:\n",
    "        d = 5//(df[i][2])\n",
    "        fs = df[i][3] *20 + (median - df[i][4])  +d\n",
    "        df[i].append(fs)  \n",
    "  else:\n",
    "      df[i].append(0) "
   ]
  },
  {
   "cell_type": "code",
   "execution_count": 215,
   "id": "bad5d86d-395f-444c-80c5-6962924eb3cf",
   "metadata": {},
   "outputs": [],
   "source": [
    "dataset = pd.DataFrame(df, columns = ['Shop_name', 'Availability','Distance','Rating','Total_bill','Final_score'])"
   ]
  },
  {
   "cell_type": "markdown",
   "id": "df098709-8adc-4e65-848b-3f8918fb43ef",
   "metadata": {},
   "source": [
    "Printing the new dataset along with the Final score"
   ]
  },
  {
   "cell_type": "code",
   "execution_count": 216,
   "id": "e2b5ccfd-bf06-42f0-872f-5bc173c06705",
   "metadata": {},
   "outputs": [
    {
     "data": {
      "text/html": [
       "<div>\n",
       "<style scoped>\n",
       "    .dataframe tbody tr th:only-of-type {\n",
       "        vertical-align: middle;\n",
       "    }\n",
       "\n",
       "    .dataframe tbody tr th {\n",
       "        vertical-align: top;\n",
       "    }\n",
       "\n",
       "    .dataframe thead th {\n",
       "        text-align: right;\n",
       "    }\n",
       "</style>\n",
       "<table border=\"1\" class=\"dataframe\">\n",
       "  <thead>\n",
       "    <tr style=\"text-align: right;\">\n",
       "      <th></th>\n",
       "      <th>Shop_name</th>\n",
       "      <th>Availability</th>\n",
       "      <th>Distance</th>\n",
       "      <th>Rating</th>\n",
       "      <th>Total_bill</th>\n",
       "      <th>Final_score</th>\n",
       "    </tr>\n",
       "  </thead>\n",
       "  <tbody>\n",
       "    <tr>\n",
       "      <th>0</th>\n",
       "      <td>M M Pai General Stores</td>\n",
       "      <td>1</td>\n",
       "      <td>2.3</td>\n",
       "      <td>2.2</td>\n",
       "      <td>195</td>\n",
       "      <td>46.0</td>\n",
       "    </tr>\n",
       "    <tr>\n",
       "      <th>1</th>\n",
       "      <td>D.M General Stores</td>\n",
       "      <td>1</td>\n",
       "      <td>3.9</td>\n",
       "      <td>3.3</td>\n",
       "      <td>190</td>\n",
       "      <td>72.0</td>\n",
       "    </tr>\n",
       "    <tr>\n",
       "      <th>2</th>\n",
       "      <td>Kalpavruksha Provision Store</td>\n",
       "      <td>0</td>\n",
       "      <td>3.9</td>\n",
       "      <td>2.7</td>\n",
       "      <td>160</td>\n",
       "      <td>0.0</td>\n",
       "    </tr>\n",
       "    <tr>\n",
       "      <th>3</th>\n",
       "      <td>Sri laxmi stores</td>\n",
       "      <td>1</td>\n",
       "      <td>0.6</td>\n",
       "      <td>4.7</td>\n",
       "      <td>190</td>\n",
       "      <td>107.0</td>\n",
       "    </tr>\n",
       "    <tr>\n",
       "      <th>4</th>\n",
       "      <td>Maqbool Store</td>\n",
       "      <td>1</td>\n",
       "      <td>1.1</td>\n",
       "      <td>2.0</td>\n",
       "      <td>198</td>\n",
       "      <td>41.0</td>\n",
       "    </tr>\n",
       "  </tbody>\n",
       "</table>\n",
       "</div>"
      ],
      "text/plain": [
       "                      Shop_name  Availability  Distance  Rating  Total_bill  \\\n",
       "0        M M Pai General Stores             1       2.3     2.2         195   \n",
       "1            D.M General Stores             1       3.9     3.3         190   \n",
       "2  Kalpavruksha Provision Store             0       3.9     2.7         160   \n",
       "3              Sri laxmi stores             1       0.6     4.7         190   \n",
       "4                 Maqbool Store             1       1.1     2.0         198   \n",
       "\n",
       "   Final_score  \n",
       "0         46.0  \n",
       "1         72.0  \n",
       "2          0.0  \n",
       "3        107.0  \n",
       "4         41.0  "
      ]
     },
     "execution_count": 216,
     "metadata": {},
     "output_type": "execute_result"
    }
   ],
   "source": [
    "dataset.head()"
   ]
  },
  {
   "cell_type": "code",
   "execution_count": 217,
   "id": "7dc1e001-cac8-42d2-94ef-a2ce24c85560",
   "metadata": {},
   "outputs": [
    {
     "name": "stdout",
     "output_type": "stream",
     "text": [
      "<class 'pandas.core.frame.DataFrame'>\n",
      "RangeIndex: 100 entries, 0 to 99\n",
      "Data columns (total 6 columns):\n",
      " #   Column        Non-Null Count  Dtype  \n",
      "---  ------        --------------  -----  \n",
      " 0   Shop_name     100 non-null    object \n",
      " 1   Availability  100 non-null    int64  \n",
      " 2   Distance      100 non-null    float64\n",
      " 3   Rating        100 non-null    float64\n",
      " 4   Total_bill    100 non-null    int64  \n",
      " 5   Final_score   100 non-null    float64\n",
      "dtypes: float64(3), int64(2), object(1)\n",
      "memory usage: 4.8+ KB\n"
     ]
    }
   ],
   "source": [
    "dataset.info()"
   ]
  },
  {
   "cell_type": "code",
   "execution_count": 218,
   "id": "fceda690-3764-4233-b717-405e01bc85e9",
   "metadata": {},
   "outputs": [],
   "source": [
    "df = dataset.values.tolist()"
   ]
  },
  {
   "cell_type": "markdown",
   "id": "965e1255-f779-434b-9bf4-b8bbef3ee7cf",
   "metadata": {},
   "source": [
    "Assigning classes to each shop based on the Final score."
   ]
  },
  {
   "cell_type": "code",
   "execution_count": 219,
   "id": "6f54af1d-3cc0-4d2b-884d-4089abdd6603",
   "metadata": {},
   "outputs": [],
   "source": [
    "for i in range(len(df)):\n",
    "    if(df[i][5]>=100):\n",
    "        df[i].append('1')\n",
    "    elif(80<=df[i][5]<100):\n",
    "        df[i].append('2')\n",
    "    elif(60<=df[i][5]<80):\n",
    "        df[i].append('3')\n",
    "    elif(40<=df[i][5]<60):\n",
    "        df[i].append('4')\n",
    "    elif(0<=df[i][5]<40):\n",
    "        df[i].append('5')    "
   ]
  },
  {
   "cell_type": "code",
   "execution_count": 193,
   "id": "80feeb60-bbd4-4480-8d35-367434958c57",
   "metadata": {},
   "outputs": [
    {
     "data": {
      "text/html": [
       "<div>\n",
       "<style scoped>\n",
       "    .dataframe tbody tr th:only-of-type {\n",
       "        vertical-align: middle;\n",
       "    }\n",
       "\n",
       "    .dataframe tbody tr th {\n",
       "        vertical-align: top;\n",
       "    }\n",
       "\n",
       "    .dataframe thead th {\n",
       "        text-align: right;\n",
       "    }\n",
       "</style>\n",
       "<table border=\"1\" class=\"dataframe\">\n",
       "  <thead>\n",
       "    <tr style=\"text-align: right;\">\n",
       "      <th></th>\n",
       "      <th>Shop_name</th>\n",
       "      <th>Availability</th>\n",
       "      <th>Distance</th>\n",
       "      <th>Rating</th>\n",
       "      <th>Total_bill</th>\n",
       "      <th>Final_score</th>\n",
       "      <th>Class</th>\n",
       "    </tr>\n",
       "  </thead>\n",
       "  <tbody>\n",
       "    <tr>\n",
       "      <th>0</th>\n",
       "      <td>M M Pai General Stores</td>\n",
       "      <td>1</td>\n",
       "      <td>2.3</td>\n",
       "      <td>2.2</td>\n",
       "      <td>195</td>\n",
       "      <td>46.0</td>\n",
       "      <td>4</td>\n",
       "    </tr>\n",
       "    <tr>\n",
       "      <th>1</th>\n",
       "      <td>D.M General Stores</td>\n",
       "      <td>1</td>\n",
       "      <td>3.9</td>\n",
       "      <td>3.3</td>\n",
       "      <td>190</td>\n",
       "      <td>72.0</td>\n",
       "      <td>3</td>\n",
       "    </tr>\n",
       "    <tr>\n",
       "      <th>2</th>\n",
       "      <td>Kalpavruksha Provision Store</td>\n",
       "      <td>0</td>\n",
       "      <td>3.9</td>\n",
       "      <td>2.7</td>\n",
       "      <td>160</td>\n",
       "      <td>0.0</td>\n",
       "      <td>5</td>\n",
       "    </tr>\n",
       "    <tr>\n",
       "      <th>3</th>\n",
       "      <td>Sri laxmi stores</td>\n",
       "      <td>1</td>\n",
       "      <td>0.6</td>\n",
       "      <td>4.7</td>\n",
       "      <td>190</td>\n",
       "      <td>107.0</td>\n",
       "      <td>1</td>\n",
       "    </tr>\n",
       "    <tr>\n",
       "      <th>4</th>\n",
       "      <td>Maqbool Store</td>\n",
       "      <td>1</td>\n",
       "      <td>1.1</td>\n",
       "      <td>2.0</td>\n",
       "      <td>198</td>\n",
       "      <td>41.0</td>\n",
       "      <td>4</td>\n",
       "    </tr>\n",
       "  </tbody>\n",
       "</table>\n",
       "</div>"
      ],
      "text/plain": [
       "                      Shop_name  Availability  Distance  Rating  Total_bill  \\\n",
       "0        M M Pai General Stores             1       2.3     2.2         195   \n",
       "1            D.M General Stores             1       3.9     3.3         190   \n",
       "2  Kalpavruksha Provision Store             0       3.9     2.7         160   \n",
       "3              Sri laxmi stores             1       0.6     4.7         190   \n",
       "4                 Maqbool Store             1       1.1     2.0         198   \n",
       "\n",
       "   Final_score Class  \n",
       "0         46.0     4  \n",
       "1         72.0     3  \n",
       "2          0.0     5  \n",
       "3        107.0     1  \n",
       "4         41.0     4  "
      ]
     },
     "execution_count": 193,
     "metadata": {},
     "output_type": "execute_result"
    }
   ],
   "source": [
    "dataset = pd.DataFrame(df, columns = ['Shop_name', 'Availability','Distance','Rating','Total_bill','Final_score','Class'])\n",
    "dataset.head()"
   ]
  },
  {
   "cell_type": "code",
   "execution_count": 194,
   "id": "dc4438b4-e32d-4062-b1ae-4dbf318639be",
   "metadata": {},
   "outputs": [],
   "source": [
    "X=dataset.iloc[:,5:-1].values\n",
    "y=dataset.iloc[:, 6].values"
   ]
  },
  {
   "cell_type": "markdown",
   "id": "630ba727-a518-44f0-8d81-2898402fbd14",
   "metadata": {},
   "source": [
    "Performing train test split on the dataset."
   ]
  },
  {
   "cell_type": "code",
   "execution_count": 195,
   "id": "c1983c6b-f704-4641-a347-5c67d13a5d2e",
   "metadata": {},
   "outputs": [],
   "source": [
    "X_train, X_test, y_train, y_test = train_test_split(X,y,test_size=0.4, random_state=60)"
   ]
  },
  {
   "cell_type": "markdown",
   "id": "e9298d70-3b5d-4ba1-903a-9bc044fabf35",
   "metadata": {},
   "source": [
    "Preprocessing the dataset using StandardScaler."
   ]
  },
  {
   "cell_type": "code",
   "execution_count": 196,
   "id": "856419fe-25eb-479f-8846-adfffbd90e75",
   "metadata": {},
   "outputs": [],
   "source": [
    "scaler = StandardScaler()\n",
    "scaler.fit(X_train)\n",
    "X_train = scaler.transform(X_train)\n",
    "X_test = scaler.transform(X_test)"
   ]
  },
  {
   "cell_type": "markdown",
   "id": "376c3902-fdee-415b-a946-c06b85321077",
   "metadata": {},
   "source": [
    "## Applying KNN algorithm "
   ]
  },
  {
   "cell_type": "code",
   "execution_count": 197,
   "id": "c8c8bad0-446a-42e6-8750-a7837eeb3f5e",
   "metadata": {},
   "outputs": [
    {
     "data": {
      "text/plain": [
       "KNeighborsClassifier()"
      ]
     },
     "execution_count": 197,
     "metadata": {},
     "output_type": "execute_result"
    }
   ],
   "source": [
    "\n",
    "classifier = KNeighborsClassifier(n_neighbors=5)\n",
    "classifier.fit(X_train,y_train)"
   ]
  },
  {
   "cell_type": "code",
   "execution_count": 198,
   "id": "922e1ac2-e1e4-4d33-a851-4d3a1c10fc29",
   "metadata": {},
   "outputs": [],
   "source": [
    "#Calculating y_pred\n",
    "y_pred = classifier.predict(X_test)"
   ]
  },
  {
   "cell_type": "code",
   "execution_count": 199,
   "id": "5fc21ce7-8b83-4342-89da-1787509ce758",
   "metadata": {},
   "outputs": [
    {
     "name": "stdout",
     "output_type": "stream",
     "text": [
      "              precision    recall  f1-score   support\n",
      "\n",
      "           1       0.50      1.00      0.67         1\n",
      "           2       1.00      0.92      0.96        13\n",
      "           3       1.00      1.00      1.00         6\n",
      "           4       0.89      1.00      0.94         8\n",
      "           5       1.00      0.92      0.96        12\n",
      "\n",
      "    accuracy                           0.95        40\n",
      "   macro avg       0.88      0.97      0.90        40\n",
      "weighted avg       0.97      0.95      0.95        40\n",
      "\n"
     ]
    }
   ],
   "source": [
    "#Finding the Accuracy, precision, recall, f1-score and support\n",
    "print(classification_report(y_test, y_pred))"
   ]
  },
  {
   "cell_type": "code",
   "execution_count": 200,
   "id": "59a60148-576f-45dd-bf72-bdaa555cbc60",
   "metadata": {},
   "outputs": [
    {
     "name": "stdout",
     "output_type": "stream",
     "text": [
      "[[ 1  0  0  0  0]\n",
      " [ 1 12  0  0  0]\n",
      " [ 0  0  6  0  0]\n",
      " [ 0  0  0  8  0]\n",
      " [ 0  0  0  1 11]]\n"
     ]
    }
   ],
   "source": [
    "#Printing multiclass confusion matrix\n",
    "print(confusion_matrix(y_test, y_pred))"
   ]
  },
  {
   "cell_type": "code",
   "execution_count": 203,
   "id": "1203f541-b55d-47bb-a65f-0472d317781a",
   "metadata": {},
   "outputs": [],
   "source": [
    "rec = []\n",
    "final = dataset.values.tolist()\n",
    "final.sort(key = lambda x: x[5], reverse=True)"
   ]
  },
  {
   "cell_type": "markdown",
   "id": "df3b14af-8c77-4606-a664-1358b37cacff",
   "metadata": {},
   "source": [
    "### Top 10 recommendations using GoGet Recommendation System"
   ]
  },
  {
   "cell_type": "code",
   "execution_count": 205,
   "id": "a6faf29c-d6c4-4ee6-99f8-d5de68c85ec2",
   "metadata": {},
   "outputs": [
    {
     "name": "stdout",
     "output_type": "stream",
     "text": [
      "['Pacchu Kiraani Stores', 1, 4.9, 4.7, 180, 110.0, '1']\n",
      "['Sri laxmi stores', 1, 0.6, 4.7, 190, 107.0, '1']\n",
      "[\"Babanna's Shop\", 1, 0.8, 4.7, 190, 105.0, '1']\n",
      "['Karnataka General\\xa0STORE', 1, 0.7, 4.8, 195, 103.0, '1']\n",
      "['shobha store', 1, 1.4, 4.6, 190, 100.0, '1']\n",
      "['Shhravan Grocery\\xa0Store', 1, 4.5, 4.6, 188, 100.0, '1']\n",
      "['SPB store', 1, 2.9, 4.8, 194, 98.0, '2']\n",
      "['Shri Gurusai Stores', 1, 1.3, 4.9, 198, 98.0, '2']\n",
      "['S.N.M Stores', 1, 4.1, 4.8, 195, 97.0, '2']\n",
      "['Ragavendra provision store', 1, 3.3, 4.4, 188, 96.0, '2']\n"
     ]
    }
   ],
   "source": [
    "for i in range(0,10):\n",
    "    print(final[i])"
   ]
  },
  {
   "cell_type": "code",
   "execution_count": null,
   "id": "bae1ba54-a02a-4e58-b5ee-5ddc6f9a93f3",
   "metadata": {},
   "outputs": [],
   "source": []
  }
 ],
 "metadata": {
  "kernelspec": {
   "display_name": "Python 3 (ipykernel)",
   "language": "python",
   "name": "python3"
  },
  "language_info": {
   "codemirror_mode": {
    "name": "ipython",
    "version": 3
   },
   "file_extension": ".py",
   "mimetype": "text/x-python",
   "name": "python",
   "nbconvert_exporter": "python",
   "pygments_lexer": "ipython3",
   "version": "3.8.10"
  }
 },
 "nbformat": 4,
 "nbformat_minor": 5
}
